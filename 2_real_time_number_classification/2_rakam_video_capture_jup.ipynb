{
 "cells": [
  {
   "cell_type": "code",
   "execution_count": null,
   "id": "b5716aff",
   "metadata": {},
   "outputs": [],
   "source": [
    "import cv2\n",
    "import pickle\n",
    "import numpy as np"
   ]
  },
  {
   "cell_type": "code",
   "execution_count": null,
   "id": "59890773",
   "metadata": {},
   "outputs": [],
   "source": [
    "#kameramizdan gelen goruntuyu preprocces etmeden alirsak tahmin yapamayacaktir cunku tahmin fonksiyonuna bu ozelllikllerdeki\n",
    "#verilerin tahminini yapmasi icin egittik. o yuzden tekrardan cevirme islemini yapiyoruz.\n",
    "def preProcess(img):\n",
    "    img = cv2.cvtColor(img, cv2.COLOR_BGR2GRAY)\n",
    "    img = cv2.equalizeHist(img)\n",
    "    img = img /255.0\n",
    "    \n",
    "    return img\n",
    "\n",
    "\n",
    "#kameramizdan capture islemini yapiyoruz.\n",
    "cap = cv2.VideoCapture(0)\n",
    "cap.set(3,480)\n",
    "cap.set(4,480)\n",
    "\n",
    "#egitmis oldugumuz modeli iceriye yukluyoruz.\n",
    "pickle_in = open(\"model_trained_v4.p\",\"rb\")\n",
    "model = pickle.load(pickle_in)\n",
    "\n",
    "\n",
    "\n",
    "while True:\n",
    "    \n",
    "    success, frame = cap.read()\n",
    "    \n",
    "    #burada framemizi arraye ceviriyoruz.\n",
    "    img = np.asarray(frame)\n",
    "    #tekrardan resize ediyoruz cunku modelimizi egitirken 32 ye 32 yapmistik tekrardan 32 ye 32 yapiyoruz.\n",
    "    img = cv2.resize(img, (32,32))\n",
    "    #simdi ise img mizi preprocess e sokuyoruz cunku modeldekiyle ayni olmak zorunda.\n",
    "    img = preProcess(img)\n",
    "    \n",
    "    #ilk bastaki 1: 1 tane resim oldugnu 32 ye 32 boyutunu sonraki 1 ise channellini yani siyah beyaz olldugnu soylluyor.\n",
    "    img = img.reshape(1,32,32,1)\n",
    "    \n",
    "    #predict islemimiz float cikmasin diye int e ceviriyoruz.\n",
    "    classIndex = int(model.predict_classes(img))\n",
    "    \n",
    "    #buranin ciktisi su sekilde olacaktir; 0 ollma olasiligi % 60 dir gibi mesela\n",
    "    predictions = model.predict(img)\n",
    "    probVal = np.amax(predictions)\n",
    "    print(classIndex, probVal)\n",
    "    \n",
    "    if probVal > 0.7:\n",
    "        cv2.putText(frame, str(classIndex)+ \"   \"+ str(probVal), (50,50),cv2.FONT_HERSHEY_DUPLEX, 1,(0,255,0),1)\n",
    "\n",
    "    cv2.imshow(\"Rakam Siniflandirma\",frame)\n",
    "\n",
    "    if cv2.waitKey(1) & 0xFF == ord(\"q\"): break  "
   ]
  },
  {
   "cell_type": "code",
   "execution_count": null,
   "id": "9a7c28da",
   "metadata": {},
   "outputs": [],
   "source": []
  },
  {
   "cell_type": "code",
   "execution_count": null,
   "id": "6febebeb",
   "metadata": {},
   "outputs": [],
   "source": []
  },
  {
   "cell_type": "code",
   "execution_count": null,
   "id": "e5a99ae3",
   "metadata": {},
   "outputs": [],
   "source": []
  },
  {
   "cell_type": "code",
   "execution_count": null,
   "id": "f2502d04",
   "metadata": {},
   "outputs": [],
   "source": []
  },
  {
   "cell_type": "code",
   "execution_count": null,
   "id": "4729f1fe",
   "metadata": {},
   "outputs": [],
   "source": []
  },
  {
   "cell_type": "code",
   "execution_count": null,
   "id": "ff9a6282",
   "metadata": {},
   "outputs": [],
   "source": []
  },
  {
   "cell_type": "code",
   "execution_count": null,
   "id": "9129eec0",
   "metadata": {},
   "outputs": [],
   "source": []
  },
  {
   "cell_type": "code",
   "execution_count": null,
   "id": "b273ac83",
   "metadata": {},
   "outputs": [],
   "source": []
  },
  {
   "cell_type": "code",
   "execution_count": null,
   "id": "8d6bb442",
   "metadata": {},
   "outputs": [],
   "source": []
  },
  {
   "cell_type": "code",
   "execution_count": null,
   "id": "fe427c14",
   "metadata": {},
   "outputs": [],
   "source": []
  },
  {
   "cell_type": "code",
   "execution_count": null,
   "id": "79507526",
   "metadata": {},
   "outputs": [],
   "source": []
  },
  {
   "cell_type": "code",
   "execution_count": null,
   "id": "f7aac380",
   "metadata": {},
   "outputs": [],
   "source": []
  },
  {
   "cell_type": "code",
   "execution_count": null,
   "id": "70e5eb7c",
   "metadata": {},
   "outputs": [],
   "source": []
  },
  {
   "cell_type": "code",
   "execution_count": null,
   "id": "eadcdbcd",
   "metadata": {},
   "outputs": [],
   "source": []
  },
  {
   "cell_type": "code",
   "execution_count": null,
   "id": "1285293c",
   "metadata": {},
   "outputs": [],
   "source": []
  },
  {
   "cell_type": "code",
   "execution_count": null,
   "id": "cf89c261",
   "metadata": {},
   "outputs": [],
   "source": []
  },
  {
   "cell_type": "code",
   "execution_count": null,
   "id": "ee25bba9",
   "metadata": {},
   "outputs": [],
   "source": []
  },
  {
   "cell_type": "code",
   "execution_count": null,
   "id": "3cbd123a",
   "metadata": {},
   "outputs": [],
   "source": []
  },
  {
   "cell_type": "code",
   "execution_count": null,
   "id": "13aaaa25",
   "metadata": {},
   "outputs": [],
   "source": []
  },
  {
   "cell_type": "code",
   "execution_count": null,
   "id": "1506d49b",
   "metadata": {},
   "outputs": [],
   "source": []
  },
  {
   "cell_type": "code",
   "execution_count": null,
   "id": "46034a5b",
   "metadata": {},
   "outputs": [],
   "source": []
  },
  {
   "cell_type": "code",
   "execution_count": null,
   "id": "841ad0b3",
   "metadata": {},
   "outputs": [],
   "source": []
  }
 ],
 "metadata": {
  "kernelspec": {
   "display_name": "Python 3 (ipykernel)",
   "language": "python",
   "name": "python3"
  },
  "language_info": {
   "codemirror_mode": {
    "name": "ipython",
    "version": 3
   },
   "file_extension": ".py",
   "mimetype": "text/x-python",
   "name": "python",
   "nbconvert_exporter": "python",
   "pygments_lexer": "ipython3",
   "version": "3.9.18"
  }
 },
 "nbformat": 4,
 "nbformat_minor": 5
}
