{
 "cells": [
  {
   "cell_type": "code",
   "execution_count": 1,
   "id": "6b61c543",
   "metadata": {},
   "outputs": [
    {
     "name": "stdout",
     "output_type": "stream",
     "text": [
      "Collecting keyboard\n",
      "  Downloading keyboard-0.13.5-py3-none-any.whl (58 kB)\n",
      "     ---------------------------------------- 0.0/58.1 kB ? eta -:--:--\n",
      "     --------------------- ------------------ 30.7/58.1 kB ? eta -:--:--\n",
      "     -------------------------------------- 58.1/58.1 kB 759.6 kB/s eta 0:00:00\n",
      "Installing collected packages: keyboard\n",
      "Successfully installed keyboard-0.13.5\n",
      "Note: you may need to restart the kernel to use updated packages.\n"
     ]
    }
   ],
   "source": [
    "pip install keyboard"
   ]
  },
  {
   "cell_type": "code",
   "execution_count": 1,
   "id": "e25db2c9",
   "metadata": {},
   "outputs": [
    {
     "name": "stdout",
     "output_type": "stream",
     "text": [
      "Requirement already satisfied: mss in c:\\users\\tkaan\\anaconda3\\envs\\tensofrlow_py39\\lib\\site-packages (9.0.1)\n",
      "Note: you may need to restart the kernel to use updated packages.\n"
     ]
    }
   ],
   "source": [
    "pip install mss"
   ]
  },
  {
   "cell_type": "code",
   "execution_count": 2,
   "id": "4d9468d9",
   "metadata": {},
   "outputs": [],
   "source": [
    "import keyboard\n",
    "import uuid\n",
    "import time\n",
    "from PIL import Image\n",
    "from mss import mss"
   ]
  },
  {
   "cell_type": "code",
   "execution_count": null,
   "id": "1b2113a4",
   "metadata": {},
   "outputs": [],
   "source": [
    "#bu pikseller bizim oyunumuzun engellerinin dinazora yaklastigi yerin kordinatlari, derin ogrenme algoritmamiz bu belirledigimiz\n",
    "#kordinatlara bakip ona gore ziplama ya da egilme kararini verecektir.\n",
    "mon = {\"top\":300, \"left\":770, \"width\":250, \"height\":100}\n",
    "\n",
    "#mss kutuphanesi bizim bu pikseller dogrultusunda ekrandan ilgil alani ROI yi kesip frame haline donusturecek olan kutuphanemiz.\n",
    "sct = mss()\n",
    "\n",
    "i = 0\n",
    "\n",
    "def record_screen(record_id, key):\n",
    "    global i\n",
    "    \n",
    "    i += 1\n",
    "    #burdaki key dedigimiz  sey klavyedeki bastigimiz tus olacak i ise kac kez klavyeye bastigimiz oluyor.\n",
    "    print(\"{}: {}\".format(key, i))\n",
    "    #burada ise img yi az onceki verdigimiz kordinatlar dogrultusunda aliyoruz.\n",
    "    img = sct.grab(mon)\n",
    "    #simdi burada ise ekran goruntulerimizi kaydediyoruz, yani burada data topluyoruz suanda, ne zaman ve hangi engel karsisinda\n",
    "    #hangi hareketleri yapiyoruz onlar kaydediyoruz. hem ekranda ne oldugunu hem de hangi hareketi yaptigimizi.\n",
    "    im = Image.frombytes(\"RGB\", img.size, img.rgb)\n",
    "    im.save(\"./img/{}_{}_{}.png\".format(key, record_id, i))\n",
    "    \n",
    "is_exit = False\n",
    "\n",
    "#burada ise veri toplayamayi birakmak istedigimiz zaman esc tusuna bastigimizda kodumuzdan cikisini gerceklestiren \n",
    "#kodumuzu yaziyoruz.\n",
    "def exit():\n",
    "    global is_exit\n",
    "    is_exit = True\n",
    "    \n",
    "keyboard.add_hotkey(\"esc\", exit)\n",
    "\n",
    "record_id = uuid.uuid4()\n",
    "\n",
    "while True:\n",
    "    #eger dogru iise cikis islemini gerceklestiriyoruz break yapiyoruz.\n",
    "    if is_exit: break\n",
    "\n",
    "    try:\n",
    "        #burada eger yukari tusuna basarsak record screeni getiricek ve key olarak da up yazicak.\n",
    "        if keyboard.is_pressed(keyboard.KEY_UP):\n",
    "            record_screen(record_id, \"up\")\n",
    "            #sleep koymamizin sebebi ise verdigimiz komutlarin cakismamasi icin.\n",
    "            time.sleep(0.1)\n",
    "            #ayni sekilde burada da asagiya basarsak ayni islemi yapicak.\n",
    "        elif keyboard.is_pressed(keyboard.KEY_DOWN):\n",
    "            record_screen(record_id, \"down\")\n",
    "            time.sleep(0.1)\n",
    "            #burada da saga basma islemini yaptik neden buna ihtiyacimiz var;\n",
    "            #cunku siniflandirma yaparken bu ya asagiya egilecek ya da yukari cikicak ziplamasi gereken yerlerde ziplamasi\n",
    "            #istedigimiz bir durum ama ziplamamasi gereken yerlede ziplarsa bir sonraki hamle icin hatali bir pozsisyonda \n",
    "            #kalabilir, bu nedenle ziplamamasi ya da egilmemesi gereken yerderde sag tusuna basicaz ki algoritmamiz aslinda\n",
    "            #sag tusunun hicbirsey yapmamasi gerektigini zaten ekranin normal bir bicimde akmasi gerektigini ogrensin diye.\n",
    "        elif keyboard.is_pressed(\"right\"):\n",
    "            record_screen(record_id, \"right\")\n",
    "            time.sleep(0.1)\n",
    "    #buraya try blogu eklememizin sebebi ise olasi bir hata alirsak dahi kodumuzun durmasi yerine devam etmesini istiyoruz.\n",
    "    except RuntimeError: continue"
   ]
  },
  {
   "cell_type": "code",
   "execution_count": null,
   "id": "e4304974",
   "metadata": {},
   "outputs": [],
   "source": []
  },
  {
   "cell_type": "code",
   "execution_count": null,
   "id": "54857eeb",
   "metadata": {},
   "outputs": [],
   "source": []
  },
  {
   "cell_type": "code",
   "execution_count": null,
   "id": "83be408d",
   "metadata": {},
   "outputs": [],
   "source": []
  },
  {
   "cell_type": "code",
   "execution_count": null,
   "id": "7304b7c2",
   "metadata": {},
   "outputs": [],
   "source": []
  },
  {
   "cell_type": "code",
   "execution_count": null,
   "id": "b95424c8",
   "metadata": {},
   "outputs": [],
   "source": []
  },
  {
   "cell_type": "code",
   "execution_count": null,
   "id": "5ce3b87a",
   "metadata": {},
   "outputs": [],
   "source": []
  },
  {
   "cell_type": "code",
   "execution_count": null,
   "id": "7d15af8d",
   "metadata": {},
   "outputs": [],
   "source": []
  },
  {
   "cell_type": "code",
   "execution_count": null,
   "id": "c882b4a6",
   "metadata": {},
   "outputs": [],
   "source": []
  },
  {
   "cell_type": "code",
   "execution_count": null,
   "id": "cbbface8",
   "metadata": {},
   "outputs": [],
   "source": []
  },
  {
   "cell_type": "code",
   "execution_count": null,
   "id": "bb255184",
   "metadata": {},
   "outputs": [],
   "source": []
  },
  {
   "cell_type": "code",
   "execution_count": null,
   "id": "26c2a4a1",
   "metadata": {},
   "outputs": [],
   "source": []
  },
  {
   "cell_type": "code",
   "execution_count": null,
   "id": "30cc61bb",
   "metadata": {},
   "outputs": [],
   "source": []
  },
  {
   "cell_type": "code",
   "execution_count": null,
   "id": "3a02ad9b",
   "metadata": {},
   "outputs": [],
   "source": []
  },
  {
   "cell_type": "code",
   "execution_count": null,
   "id": "4b9abca9",
   "metadata": {},
   "outputs": [],
   "source": []
  },
  {
   "cell_type": "code",
   "execution_count": null,
   "id": "ecb61510",
   "metadata": {},
   "outputs": [],
   "source": []
  },
  {
   "cell_type": "code",
   "execution_count": null,
   "id": "8ee425de",
   "metadata": {},
   "outputs": [],
   "source": []
  },
  {
   "cell_type": "code",
   "execution_count": null,
   "id": "42dff07c",
   "metadata": {},
   "outputs": [],
   "source": []
  },
  {
   "cell_type": "code",
   "execution_count": null,
   "id": "6151d7d7",
   "metadata": {},
   "outputs": [],
   "source": []
  }
 ],
 "metadata": {
  "kernelspec": {
   "display_name": "Python 3 (ipykernel)",
   "language": "python",
   "name": "python3"
  },
  "language_info": {
   "codemirror_mode": {
    "name": "ipython",
    "version": 3
   },
   "file_extension": ".py",
   "mimetype": "text/x-python",
   "name": "python",
   "nbconvert_exporter": "python",
   "pygments_lexer": "ipython3",
   "version": "3.9.18"
  }
 },
 "nbformat": 4,
 "nbformat_minor": 5
}
