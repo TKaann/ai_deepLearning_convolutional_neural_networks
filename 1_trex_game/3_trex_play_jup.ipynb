{
 "cells": [
  {
   "cell_type": "code",
   "execution_count": null,
   "id": "d40a77fd",
   "metadata": {},
   "outputs": [],
   "source": [
    "from keras.models import model_from_json\n",
    "import numpy as np\n",
    "from PIL import Image\n",
    "import keyboard\n",
    "import time\n",
    "from mss import mss"
   ]
  },
  {
   "cell_type": "code",
   "execution_count": null,
   "id": "8ddfe435",
   "metadata": {},
   "outputs": [],
   "source": [
    "#bunlar bizim trex oyunumuzdaki trexle engelleri gordugumuz yer, modelimiz burayi gorecek ve burdaki\n",
    "#engelleri gorunce tuslara bakicak bizim algoritmamiz.\n",
    "mon = {\"top\":300, \"left\":770, \"width\":250, \"height\":100}\n",
    "sct = mss()\n",
    "\n",
    "width = 125\n",
    "height = 50\n",
    "\n",
    "#egittigimiz modeli yukluyoruz.\n",
    "model = model_from_json(open(\"model.json\",\"r\").read())\n",
    "model.load_weights(\"trex_weight.h5\")\n",
    "\n",
    "#down = 0, right = 1, up = 2\n",
    "labels = [\"Down\", \"Right\", \"Up\"]\n",
    "\n",
    "\n",
    "framerate_time = time.time()\n",
    "counter = 0\n",
    "i = 0\n",
    "\n",
    "#bir komut verdikten sonra 0.4 saniye baska bir komut vermemesini istiyoruz ki o komut genelde yalis oluyor,\n",
    "#yani havada komut vermemesi icin delay koyuyoruz.\n",
    "delay = 0.4\n",
    "key_down_pressed = False\n",
    "\n",
    "while True:\n",
    "    #mon bizim belirlemis oldugumuz piksellerdi ve bu pikseller dogrultusunda bir resim aliyorum ve donusturme islemi yapiyoruz.\n",
    "    img = sct.grab(mon)\n",
    "    #burada ise numpy array e gore convert ediyoruz ve resize isleminin yapiyoruz.ve normalize ediyoruz.\n",
    "    im = Image.frombytes(\"RGB\", img.size, img.rgb)\n",
    "    im2 = np.array(im.convert(\"L\").resize((width, height)))\n",
    "    im2 = im2 / 255\n",
    "    \n",
    "    #bura ise kerasin alabilecegi formata gore convert isllemi yapiyoruz.\n",
    "    X =np.array([im2])\n",
    "    X = X.reshape(X.shape[0], width, height, 1)\n",
    "    #burda ise tahmin islemini yaptirtiyoruz.\n",
    "    r = model.predict(X)\n",
    "    \n",
    "    #burdaki durumu soyle aciklayalim; simdi elimizde 3 adet tus var bunlarin hangisine basilacak olma ihtimalini\n",
    "    #tahmin ediyoruz. mesella 1 up olsun 2 down 3 right ollsun\n",
    "    #1 e basma orani 0.3 - 2 ye basma orani 0.6 - 3 e basma orani 0.1 ollsun. bunllarin toplami 1 olacaktir.\n",
    "    #bizde bunlarin arsindan max olanini yani basilacak olan tuslardan hangisinin tahmin orani daha yuksekse onu seciyoruz.\n",
    "    result = np.argmax(r)\n",
    "    \n",
    "    #bizim icin onemlli olanlalr 0 ve 2 cunku 1 deki right hicbisye yapma demek anllamina gelmektedir.\n",
    "    #burada ise eger resullt 0 ise yani down ise \n",
    "    if result == 0: # down = 0\n",
    "        \n",
    "        #burada asagi tusuna bastirtiyoruz.\n",
    "        keyboard.press(keyboard.KEY_DOWN)\n",
    "        key_down_pressed = True\n",
    "    #result 2 ise yani up ise\n",
    "    elif result == 2:    # up = 2\n",
    "        \n",
    "        #burada ise yukari ziplama isllemini yaptirtiyoruz.\n",
    "        if key_down_pressed:\n",
    "            keyboard.release(keyboard.KEY_DOWN)\n",
    "        #burada yukari basmaya baslini kaldigi icin relase edip normale ceviriyoruz.\n",
    "        time.sleep(delay)\n",
    "        keyboard.press(keyboard.KEY_UP)\n",
    "        \n",
    "        #burada ise 1500. frame e kadar oyunun hizi normal seyrinde giderken 1500 den sonra hizlaniyor\n",
    "        #hizlandigi icin de basta koydugumuz sleep bizi yavaslatiyor ve bu sleep islemini azaltiyoruz.\n",
    "        if i < 1500:\n",
    "            time.sleep(0.3)\n",
    "        elif 1500 < i and i < 5000:\n",
    "            time.sleep(0.2)\n",
    "        else:\n",
    "            time.sleep(0.17)\n",
    "        \n",
    "        #simdi yukarda vakit gecirdikten sonra asagi tusuna bastirtiyoruz, ama eger biraktirmazsak asagi tusuna basili kaliyor\n",
    "        #bu yuzden release ile asagi tusunu biraktirtiyoruz.\n",
    "        keyboard.press(keyboard.KEY_DOWN)\n",
    "        keyboard.release(keyboard.KEY_DOWN)\n",
    "    \n",
    "    counter += 1\n",
    "    \n",
    "    #burada ise frame gectikce delay vaktini azalltiyoruz en son 0 a esitlenince dellaysiz birakiyoruz.\n",
    "    if (time.time() - framerate_time) > 1:\n",
    "        \n",
    "        counter = 0\n",
    "        framerate_time = time.time()\n",
    "        if i <= 1500:\n",
    "            delay -= 0.003\n",
    "        else:\n",
    "            delay -= 0.005\n",
    "        if delay < 0:\n",
    "            delay = 0\n",
    "            \n",
    "        print(\"---------------------\")\n",
    "        print(\"Down: {} \\nRight:{} \\nUp: {} \\n\".format(r[0][0],r[0][1],r[0][2]))\n",
    "        i += 1\n"
   ]
  },
  {
   "cell_type": "code",
   "execution_count": null,
   "id": "08c7ded8",
   "metadata": {},
   "outputs": [],
   "source": []
  },
  {
   "cell_type": "code",
   "execution_count": null,
   "id": "7b6f3666",
   "metadata": {},
   "outputs": [],
   "source": []
  },
  {
   "cell_type": "code",
   "execution_count": null,
   "id": "dd44d060",
   "metadata": {},
   "outputs": [],
   "source": []
  },
  {
   "cell_type": "code",
   "execution_count": null,
   "id": "aee87279",
   "metadata": {},
   "outputs": [],
   "source": []
  },
  {
   "cell_type": "code",
   "execution_count": null,
   "id": "a1947e83",
   "metadata": {},
   "outputs": [],
   "source": []
  },
  {
   "cell_type": "code",
   "execution_count": null,
   "id": "348eb055",
   "metadata": {},
   "outputs": [],
   "source": []
  },
  {
   "cell_type": "code",
   "execution_count": null,
   "id": "b8c813fb",
   "metadata": {},
   "outputs": [],
   "source": []
  },
  {
   "cell_type": "code",
   "execution_count": null,
   "id": "87ae7cff",
   "metadata": {},
   "outputs": [],
   "source": []
  },
  {
   "cell_type": "code",
   "execution_count": null,
   "id": "d63adf0e",
   "metadata": {},
   "outputs": [],
   "source": []
  },
  {
   "cell_type": "code",
   "execution_count": null,
   "id": "f9a25412",
   "metadata": {},
   "outputs": [],
   "source": []
  },
  {
   "cell_type": "code",
   "execution_count": null,
   "id": "d4da8d5d",
   "metadata": {},
   "outputs": [],
   "source": []
  },
  {
   "cell_type": "code",
   "execution_count": null,
   "id": "56c2c8d6",
   "metadata": {},
   "outputs": [],
   "source": []
  },
  {
   "cell_type": "code",
   "execution_count": null,
   "id": "119db001",
   "metadata": {},
   "outputs": [],
   "source": []
  },
  {
   "cell_type": "code",
   "execution_count": null,
   "id": "b66384a1",
   "metadata": {},
   "outputs": [],
   "source": []
  },
  {
   "cell_type": "code",
   "execution_count": null,
   "id": "7da664e5",
   "metadata": {},
   "outputs": [],
   "source": []
  },
  {
   "cell_type": "code",
   "execution_count": null,
   "id": "5c990418",
   "metadata": {},
   "outputs": [],
   "source": []
  },
  {
   "cell_type": "code",
   "execution_count": null,
   "id": "2e68e672",
   "metadata": {},
   "outputs": [],
   "source": []
  },
  {
   "cell_type": "code",
   "execution_count": null,
   "id": "178210b3",
   "metadata": {},
   "outputs": [],
   "source": []
  },
  {
   "cell_type": "code",
   "execution_count": null,
   "id": "38cc706b",
   "metadata": {},
   "outputs": [],
   "source": []
  },
  {
   "cell_type": "code",
   "execution_count": null,
   "id": "eabfcf8c",
   "metadata": {},
   "outputs": [],
   "source": []
  }
 ],
 "metadata": {
  "kernelspec": {
   "display_name": "Python 3 (ipykernel)",
   "language": "python",
   "name": "python3"
  },
  "language_info": {
   "codemirror_mode": {
    "name": "ipython",
    "version": 3
   },
   "file_extension": ".py",
   "mimetype": "text/x-python",
   "name": "python",
   "nbconvert_exporter": "python",
   "pygments_lexer": "ipython3",
   "version": "3.9.18"
  }
 },
 "nbformat": 4,
 "nbformat_minor": 5
}
